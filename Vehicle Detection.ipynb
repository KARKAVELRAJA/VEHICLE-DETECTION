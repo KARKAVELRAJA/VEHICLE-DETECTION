{
 "cells": [
  {
   "cell_type": "markdown",
   "metadata": {},
   "source": [
    "# Vehicle Detection"
   ]
  },
  {
   "cell_type": "code",
   "execution_count": 20,
   "metadata": {},
   "outputs": [],
   "source": [
    "import cv2\n",
    "\n",
    "car_detector = cv2.CascadeClassifier(\"haarcascade_cars.xml\") # loading the pre-trained car detection model\n",
    "camera = cv2.VideoCapture(0)\n",
    "\n",
    "while True:\n",
    "    _, img = camera.read()\n",
    "    gray    = cv2.cvtColor(img,cv2.COLOR_BGR2GRAY)\n",
    "    result = car_detector.detectMultiScale(gray,1.1,2)\n",
    "    for (x,y,w,h) in result:\n",
    "        cv2.rectangle(img,(x,y),(x+w,y+h),(0,255,0),2)\n",
    "    \n",
    "    cv2.imshow(\"Frame\",img)\n",
    "    \n",
    "    if cv2.waitKey(1) == ord(\"q\"):\n",
    "        break\n",
    "        \n",
    "camera.release()\n",
    "cv2.destroyAllWindows()"
   ]
  }
 ],
 "metadata": {
  "kernelspec": {
   "display_name": "Python 3",
   "language": "python",
   "name": "python3"
  },
  "language_info": {
   "codemirror_mode": {
    "name": "ipython",
    "version": 3
   },
   "file_extension": ".py",
   "mimetype": "text/x-python",
   "name": "python",
   "nbconvert_exporter": "python",
   "pygments_lexer": "ipython3",
   "version": "3.8.5"
  }
 },
 "nbformat": 4,
 "nbformat_minor": 4
}
